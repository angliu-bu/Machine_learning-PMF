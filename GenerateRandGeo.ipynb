{
 "cells": [
  {
   "cell_type": "code",
   "execution_count": 1,
   "metadata": {
    "colab": {},
    "colab_type": "code",
    "id": "MEppboDR8wuZ"
   },
   "outputs": [],
   "source": [
    "import numpy as np\n",
    "import random\n",
    "from PIL import Image\n",
    "import matplotlib.pyplot as plt \n",
    "import os"
   ]
  },
  {
   "cell_type": "code",
   "execution_count": null,
   "metadata": {
    "colab": {
     "base_uri": "https://localhost:8080/",
     "height": 285
    },
    "colab_type": "code",
    "id": "TGBoPrJAPmfc",
    "outputId": "d679ecee-eec5-4896-b4d0-f36d83e3ceb8"
   },
   "outputs": [
    {
     "data": {
      "text/plain": [
       "<matplotlib.image.AxesImage at 0x7f4c566a62e8>"
      ]
     },
     "execution_count": 3,
     "metadata": {
      "tags": []
     },
     "output_type": "execute_result"
    },
    {
     "data": {
      "image/png": "[encoded data removed]",
      "text/plain": [
       "<Figure size 432x288 with 1 Axes>"
      ]
     },
     "metadata": {
      "needs_background": "light",
      "tags": []
     },
     "output_type": "display_data"
    }
   ],
   "source": [
    "# version1, generate 2D matrix 1s\n",
    "imageWidth = 100\n",
    "imageLength = 100\n",
    "nodes = 6\n",
    "numofimg = 8\n",
    "margainHole = 20\n",
    "lengthforHole = 10\n",
    "image = np.zeros((numofimg, imageLength, imageWidth))\n",
    "# print(image)\n",
    "for i in range(numofimg):\n",
    "  startidx = random.sample(list(range(10, imageWidth//2 - 10)), 1)\n",
    "  endidx = random.sample(list(range(imageWidth//2 + 10, imageWidth - 10)), 1)\n",
    "  displacement = [-10, -8, -6, 6, 8, 10]\n",
    "  holeonBorder =  random.choice([4])    # 1: no hole, 2, top hole, 3, bottom hole, 4 top and bottom hole\n",
    "  for n in range(nodes - 1):\n",
    "    startidx += [startidx[-1] + random.choice(displacement)]\n",
    "\n",
    "    start1 = startidx[n]\n",
    "    start2 = startidx[n + 1]\n",
    "    if start1 < start2:\n",
    "      increse = 1\n",
    "    else:\n",
    "      increse = -1\n",
    "\n",
    "    for j in range(n*imageLength//(nodes -1), (n + 1) *imageLength//(nodes - 1)):\n",
    "      if start1 < 0: start1 = 0\n",
    "      if start1 > imageWidth//2: start1 = imageWidth//2\n",
    "      image[i, j, start1:imageWidth//2 + 1] = 1\n",
    "      if start1 == start2:continue\n",
    "      else: start1 += increse\n",
    "    endidx += [endidx[-1] + random.choice(displacement)]\n",
    "    end1 = endidx[n]\n",
    "    end2 = endidx[n + 1]\n",
    "    if end1 < end2:\n",
    "      increse = 1\n",
    "    else:\n",
    "      increse = -1\n",
    "    for j in range(n*imageLength//(nodes -1), (n + 1) *imageLength//(nodes - 1)):   \n",
    "      if end1 < imageWidth//2: end1 = imageWidth//2\n",
    "      if end1>imageWidth: end1 = imageWidth\n",
    "      image[i, j, imageWidth//2:end1] = 1\n",
    "      if end1 == end2: continue\n",
    "      else: end1 += increse\n",
    "    # set top or bottom holes\n",
    "    if holeonBorder == 2 and endidx[0] - startidx[0] >= lengthforHole + 2* margainHole:\n",
    "      image[i, 0, startidx[0] + margainHole:endidx[0] - margainHole] = 0\n",
    "    elif holeonBorder == 3 and endidx[-1] - startidx[-1] >= lengthforHole + 2* margainHole:\n",
    "      image[i, -1, startidx[-1] + margainHole:endidx[-1] - margainHole] = 0\n",
    "    elif holeonBorder == 4:\n",
    "      if endidx[0] - startidx[0] >= lengthforHole + 2* margainHole:\n",
    "        image[i, 0, startidx[0] + margainHole:endidx[0] - margainHole] = 0\n",
    "      if endidx[-1] - startidx[-1] >= lengthforHole + 2* margainHole:\n",
    "        image[i, -1, startidx[-1] + margainHole:endidx[-1] - margainHole] = 0\n",
    "\n"
   ]
  },
  {
   "cell_type": "code",
   "execution_count": null,
   "metadata": {
    "colab": {
     "base_uri": "https://localhost:8080/",
     "height": 285
    },
    "colab_type": "code",
    "id": "n7PhkR87Ttvw",
    "outputId": "bd413b31-7535-45f5-9103-a9c41f6c2192"
   },
   "outputs": [
    {
     "data": {
      "text/plain": [
       "<matplotlib.image.AxesImage at 0x7f4c56009ac8>"
      ]
     },
     "execution_count": 8,
     "metadata": {
      "tags": []
     },
     "output_type": "execute_result"
    },
    {
     "data": {
      "image/png": "[encoded data removed]",
      "text/plain": [
       "<Figure size 432x288 with 1 Axes>"
      ]
     },
     "metadata": {
      "needs_background": "light",
      "tags": []
     },
     "output_type": "display_data"
    }
   ],
   "source": [
    "i = 2   # decdie which picture to plot\n",
    "tmpimage = np.zeros((imageLength, imageWidth))\n",
    "tmpimage[:,:] = image[i,:,:]\n",
    "np.savetxt(\"foo.csv\", tmpimage, delimiter=\",\")\n",
    "plt.figure()    \n",
    "plt.imshow(tmpimage, cmap='Reds', vmin=0, vmax=1)"
   ]
  },
  {
   "cell_type": "code",
   "execution_count": null,
   "metadata": {
    "colab": {},
    "colab_type": "code",
    "id": "eB2LFcHyTiMW"
   },
   "outputs": [],
   "source": [
    "# get the coordinates of 1s\n",
    "# idx = 1\n",
    "# tmpimage = np.zeros((imageLength, imageWidth))\n",
    "# tmpimage[:,:] = image[idx,:,:]\n",
    "# res = []\n",
    "# for i in range(imageLength):\n",
    "#   for j in range(imageWidth):\n",
    "#     if tmpimage[i][j] == 1:\n",
    "#       res.append([i, j])\n",
    "# print(res)\n",
    "# for i in range(100):\n",
    "#   print(res[i][0]*0.3, '     ', res[i][1]*0.03)"
   ]
  },
  {
   "cell_type": "code",
   "execution_count": 35,
   "metadata": {
    "colab": {
     "base_uri": "https://localhost:8080/",
     "height": 54
    },
    "colab_type": "code",
    "id": "7ELJ3rRYscgO",
    "outputId": "a5b12ea6-fd62-4a19-9188-ec9d0abcafc5"
   },
   "outputs": [
    {
     "name": "stdout",
     "output_type": "stream",
     "text": [
      "finish\n"
     ]
    }
   ],
   "source": [
    "# version2  generate vertex\n",
    "# geometry variation: (15 * 50)^12 = 3*10^34. \n",
    "imageWidth = 100\n",
    "imageLength = 100\n",
    "nodes = 6\n",
    "numofimg = 100\n",
    "margainHole = 20\n",
    "lengthforHole = 10\n",
    "numVertex = 8\n",
    "# print(image)\n",
    "images = [[] for _ in range(numofimg)]\n",
    "for i in range(numofimg):\n",
    "    vertexes = []\n",
    "  # startidx = random.sample(list(range(10, imageWidth//2 - 10)))\n",
    "  # endidx = random.sample(list(range(imageWidth//2 + 10, imageWidth - 10)))\n",
    "    for v in range(numVertex):\n",
    "        x = random.randint(1, imageWidth//2 - 10)\n",
    "        if v == 0:\n",
    "            vertexes.append([x, 0])\n",
    "        elif v == numVertex - 1:\n",
    "            vertexes.append([x, imageLength])\n",
    "        else:\n",
    "            yrangestart = 5 + ((imageLength - 10)//(numVertex - 2))*(v - 1) \n",
    "            yrangesend = 5 + ((imageLength - 10)//(numVertex - 2))*(v)      \n",
    "            y = random.randint(yrangestart, yrangesend)\n",
    "            vertexes.append([x, y])\n",
    "\n",
    "\n",
    "    for v in range(numVertex)[::-1]:\n",
    "        x = random.randint(imageWidth//2 + 10, imageWidth - 1)\n",
    "        if v == 0:\n",
    "            vertexes.append([x, 0])\n",
    "          # add a hole\n",
    "            if x - vertexes[0][0] >= 40:  \n",
    "                vertexes.append([x - 15, 0])\n",
    "                vertexes.append([x - 15, 3])\n",
    "                vertexes.append([vertexes[0][0] + 15,3])\n",
    "                vertexes.append([vertexes[0][0] + 15, 0])\n",
    "        elif v == numVertex - 1:\n",
    "          # add a hole\n",
    "            if x - vertexes[-1][0] >= 40:       \n",
    "                vertexes.append([vertexes[-1][0] + 15, imageLength])\n",
    "                vertexes.append([vertexes[-1][0] + 15, imageLength - 3])\n",
    "                vertexes.append([x - 15, imageLength - 3])\n",
    "                vertexes.append([x - 15, imageLength])\n",
    "            vertexes.append([x, imageLength])\n",
    "        else:\n",
    "            yrangestart = 5 + ((imageLength - 10)//(numVertex - 2))*(v - 1) \n",
    "            yrangesend = 5 + ((imageLength - 10)//(numVertex - 2))*(v)  \n",
    "            y = random.randint(yrangestart, yrangesend)\n",
    "            vertexes.append([x, y])\n",
    "    for v in range(len(vertexes)):\n",
    "        vertexes[v][0] *= 0.3\n",
    "        vertexes[v][1] *= 0.03\n",
    "    vertexes = np.around(vertexes, decimals = 2) \n",
    "    images[i] = vertexes\n",
    "    \n",
    "\n",
    "print('finish')\n",
    "  \n"
   ]
  },
  {
   "cell_type": "code",
   "execution_count": 38,
   "metadata": {},
   "outputs": [
    {
     "name": "stdout",
     "output_type": "stream",
     "text": [
      "[[ 9.6   0.  ]\n",
      " [ 4.2   0.57]\n",
      " [ 0.3   0.69]\n",
      " [10.2   1.05]\n",
      " [ 2.4   1.59]\n",
      " [ 4.2   2.19]\n",
      " [ 3.6   2.43]\n",
      " [ 2.7   3.  ]\n",
      " [ 7.2   3.  ]\n",
      " [11.7   2.91]\n",
      " [17.1   2.91]\n",
      " [17.1   3.  ]\n",
      " [21.6   3.  ]\n",
      " [28.8   2.79]\n",
      " [26.7   2.13]\n",
      " [27.9   1.8 ]\n",
      " [29.7   1.32]\n",
      " [21.3   0.78]\n",
      " [21.9   0.15]\n",
      " [27.3   0.  ]\n",
      " [22.8   0.  ]\n",
      " [22.8   0.09]\n",
      " [14.1   0.09]\n",
      " [14.1   0.  ]]\n"
     ]
    }
   ],
   "source": [
    "\n",
    "print(images[1])"
   ]
  },
  {
   "cell_type": "code",
   "execution_count": 39,
   "metadata": {},
   "outputs": [],
   "source": [
    "# save to txt files\n",
    "\n",
    "os.getcwd()\n",
    "os.chdir('C:\\\\Users\\\\zhuof\\\\Desktop\\\\ML for 2D materials\\\\PMLgithub\\\\data\\\\Generate_Random_Geometres\\\\')\n",
    "os.getcwd()\n",
    "for i in range(numofimg): \n",
    "    if len(str(i)) == 1:\n",
    "        idx = '00' + str(i)\n",
    "    elif len(str(i)) == 2:\n",
    "        idx = '0' + str(i)\n",
    "    else:\n",
    "        idx = str(i)\n",
    "    f= open('file' + idx +\".txt\",\"w+\") \n",
    "    array = images[i]\n",
    "    for j in range(len(array)):\n",
    "        f.write(str(array[j][0]) +  '      ' + str(array[j][1]) + '\\n')\n",
    "    f.close() \n",
    "    \n",
    "  "
   ]
  },
  {
   "cell_type": "code",
   "execution_count": 4,
   "metadata": {
    "colab": {},
    "colab_type": "code",
    "id": "tNeNOySrCebE"
   },
   "outputs": [
    {
     "name": "stdout",
     "output_type": "stream",
     "text": [
      "['9.6', '0.0']\n",
      "['5.1', '0.6']\n",
      "['3.0', '0.81']\n",
      "['0.3', '1.05']\n",
      "['8.1', '1.5']\n",
      "['3.0', '2.01']\n",
      "['0.6', '2.55']\n",
      "['7.5', '3.0']\n",
      "['12.0', '3.0']\n",
      "['16.5', '2.91']\n",
      "['22.8', '2.91']\n",
      "['22.8', '3.0']\n",
      "['27.3', '3.0']\n",
      "['20.4', '2.64']\n",
      "['26.4', '2.16']\n",
      "['27.3', '1.83']\n",
      "['29.4', '1.08']\n",
      "['26.1', '0.96']\n",
      "['21.0', '0.48']\n",
      "['24.9', '0.0']\n",
      "['20.4', '0.0']\n",
      "['20.4', '0.09']\n",
      "['14.1', '0.09']\n",
      "['14.1', '0.0']\n"
     ]
    },
    {
     "data": {
      "image/png": "[encoded data removed]",
      "text/plain": [
       "<Figure size 432x288 with 1 Axes>"
      ]
     },
     "metadata": {},
     "output_type": "display_data"
    }
   ],
   "source": [
    "# import txt files\n",
    "os.getcwd()\n",
    "os.chdir('C:\\\\Users\\\\zhuof\\\\Desktop\\\\ML for 2D materials\\\\PMLgithub\\\\data\\\\Generate_Random_Geometres\\\\')\n",
    "os.getcwd()\n",
    "f= open(\"file000.txt\",\"r\") \n",
    "array = []\n",
    "for row in f:\n",
    "    data = row.split()\n",
    "    print(data)\n",
    "    point = [float(data[0]), float(data[1])]\n",
    "    array.append(point)\n",
    "f.close()\n",
    "vertexdata = array\n",
    "start = vertexdata[-1]\n",
    "end = vertexdata[0]\n",
    "for node1, node2 in zip(vertexdata, vertexdata[1:]):\n",
    "    x0, y0 = node1\n",
    "    x1, y1 = node2\n",
    "    x_values = [x0, x1]\n",
    "    y_values = [y0, y1]\n",
    "    plt.plot(x_values, y_values, 'r')\n",
    "# collection the last line\n",
    "plt.plot([start[0], end[0]],[start[1], end[1]], 'r')\n",
    "plt.show()\n",
    "        "
   ]
  },
  {
   "cell_type": "code",
   "execution_count": 35,
   "metadata": {},
   "outputs": [
    {
     "name": "stdout",
     "output_type": "stream",
     "text": [
      "[[ 16   0]\n",
      " [  9   9]\n",
      " [ 29  20]\n",
      " [ 37  37]\n",
      " [ 37  51]\n",
      " [ 37  75]\n",
      " [ 34  88]\n",
      " [ 14 100]\n",
      " [ 29 100]\n",
      " [ 44  97]\n",
      " [ 62  97]\n",
      " [ 62 100]\n",
      " [ 77 100]\n",
      " [ 87  88]\n",
      " [ 67  67]\n",
      " [ 70  65]\n",
      " [ 68  44]\n",
      " [ 71  20]\n",
      " [ 86   5]\n",
      " [ 82   0]\n",
      " [ 67   0]\n",
      " [ 67   3]\n",
      " [ 31   3]\n",
      " [ 31   0]]\n",
      "100 100\n",
      "(101, 101)\n"
     ]
    },
    {
     "data": {
      "image/png": "[encoded data removed]",
      "text/plain": [
       "<Figure size 432x288 with 1 Axes>"
      ]
     },
     "metadata": {},
     "output_type": "display_data"
    },
    {
     "name": "stdout",
     "output_type": "stream",
     "text": [
      "3\n"
     ]
    }
   ],
   "source": [
    "# plot simulated data  \n",
    "\n",
    "import matplotlib.pyplot as plt        \n",
    "vertexdata = np. array(images[2])\n",
    "\n",
    "vertexdata = array\n",
    "mat = [[0 for _  in range(imageWidth + 1)] for _ in range(imageLength + 1)]\n",
    "mat = np.array(mat)\n",
    "print(mat.shape)\n",
    "start = vertexdata[-1]\n",
    "end = vertexdata[0]\n",
    "for node1, node2 in zip(vertexdata, vertexdata[1:]):\n",
    "    x0, y0 = node1\n",
    "    x1, y1 = node2\n",
    "    x_values = [x0, x1]\n",
    "    y_values = [y0, y1]\n",
    "    plt.plot(x_values, y_values, 'r')\n",
    "# collection the last line\n",
    "plt.plot([start[0], end[0]],[start[1], end[1]], 'r')\n",
    "plt.show()\n",
    "# draw_line\n",
    "\n"
   ]
  },
  {
   "cell_type": "code",
   "execution_count": null,
   "metadata": {
    "colab": {
     "base_uri": "https://localhost:8080/",
     "height": 273
    },
    "colab_type": "code",
    "id": "kTSppixJGR3S",
    "outputId": "e4670c94-0582-40be-a4b2-513abd59daae"
   },
   "outputs": [
    {
     "data": {
      "text/plain": [
       "<matplotlib.image.AxesImage at 0x7f610ea2fe48>"
      ]
     },
     "execution_count": 53,
     "metadata": {
      "tags": []
     },
     "output_type": "execute_result"
    },
    {
     "data": {
      "image/png": "[encoded data removed]",
      "text/plain": [
       "<Figure size 432x288 with 1 Axes>"
      ]
     },
     "metadata": {
      "needs_background": "light",
      "tags": []
     },
     "output_type": "display_data"
    }
   ],
   "source": [
    "# draw a line between 2 coordinates in a 2D matrix\n",
    "\n",
    "def draw_line(mat, x0, y0, x1, y1, inplace=False):\n",
    "    if not (0 <= x0 < mat.shape[0] and 0 <= x1 < mat.shape[0] and\n",
    "            0 <= y0 < mat.shape[1] and 0 <= y1 < mat.shape[1]):\n",
    "        raise ValueError('Invalid coordinates.')\n",
    "    if not inplace:\n",
    "        mat = mat.copy()\n",
    "    if (x0, y0) == (x1, y1):\n",
    "        mat[x0, y0] = 1\n",
    "        return mat if not inplace else None\n",
    "    # Swap axes if Y slope is smaller than X slope\n",
    "    transpose = abs(x1 - x0) < abs(y1 - y0)\n",
    "    if transpose:\n",
    "        mat = mat.T\n",
    "        x0, y0, x1, y1 = y0, x0, y1, x1\n",
    "    # Swap line direction to go left-to-right if necessary\n",
    "    if x0 > x1:\n",
    "        x0, y0, x1, y1 = x1, y1, x0, y0\n",
    "    # Write line ends\n",
    "    mat[x0, y0] = 1\n",
    "    mat[x1, y1] = 1\n",
    "    # Compute intermediate coordinates using line equation\n",
    "    x = np.arange(x0 + 1, x1)\n",
    "    y = np.round(((y1 - y0) / (x1 - x0)) * (x - x0) + y0).astype(x.dtype)\n",
    "    # Write intermediate coordinates\n",
    "    mat[x, y] = 1\n",
    "    if not inplace:\n",
    "        return mat if not transpose else mat.T\n",
    "\n",
    "def plot_figures(figures, nrows = 1, ncols=1):\n",
    "    \"\"\"Plot a dictionary of figures.\n",
    "\n",
    "    Parameters\n",
    "    ----------\n",
    "    figures : <title, figure> dictionary\n",
    "    ncols : number of columns of subplots wanted in the display\n",
    "    nrows : number of rows of subplots wanted in the figure\n",
    "    \"\"\"\n",
    "\n",
    "    fig, axeslist = plt.subplots(ncols=ncols, nrows=nrows)\n",
    "    for ind,title in enumerate(figures):\n",
    "        axeslist.ravel()[ind].imshow(figures[title], cmap=plt.gray())\n",
    "        axeslist.ravel()[ind].set_title(title)\n",
    "        axeslist.ravel()[ind].set_axis_off()\n",
    "    plt.tight_layout() # optional\n",
    "\n"
   ]
  },
  {
   "cell_type": "code",
   "execution_count": null,
   "metadata": {
    "colab": {
     "base_uri": "https://localhost:8080/",
     "height": 480
    },
    "colab_type": "code",
    "id": "8Y0A80A6HpRQ",
    "outputId": "63f00b48-0fa6-49d8-9863-2e48d0dca35b"
   },
   "outputs": [
    {
     "ename": "AttributeError",
     "evalue": "ignored",
     "output_type": "error",
     "traceback": [
      "\u001b[0;31m---------------------------------------------------------------------------\u001b[0m",
      "\u001b[0;31mAttributeError\u001b[0m                            Traceback (most recent call last)",
      "\u001b[0;32m<ipython-input-54-7f514a583bd9>\u001b[0m in \u001b[0;36m<module>\u001b[0;34m()\u001b[0m\n\u001b[1;32m      5\u001b[0m \u001b[0;34m\u001b[0m\u001b[0m\n\u001b[1;32m      6\u001b[0m \u001b[0;32mfor\u001b[0m \u001b[0mm\u001b[0m \u001b[0;32min\u001b[0m \u001b[0mrange\u001b[0m\u001b[0;34m(\u001b[0m\u001b[0;36m8\u001b[0m\u001b[0;34m)\u001b[0m\u001b[0;34m:\u001b[0m\u001b[0;34m\u001b[0m\u001b[0;34m\u001b[0m\u001b[0m\n\u001b[0;32m----> 7\u001b[0;31m   \u001b[0maxarr\u001b[0m\u001b[0;34m[\u001b[0m\u001b[0mm\u001b[0m\u001b[0;34m]\u001b[0m\u001b[0;34m.\u001b[0m\u001b[0mimshow\u001b[0m\u001b[0;34m(\u001b[0m\u001b[0mimage\u001b[0m\u001b[0;34m[\u001b[0m\u001b[0mm\u001b[0m\u001b[0;34m,\u001b[0m\u001b[0;34m:\u001b[0m\u001b[0;34m,\u001b[0m\u001b[0;34m:\u001b[0m\u001b[0;34m]\u001b[0m\u001b[0;34m,\u001b[0m \u001b[0mcmap\u001b[0m\u001b[0;34m=\u001b[0m\u001b[0;34m'Reds'\u001b[0m\u001b[0;34m,\u001b[0m \u001b[0mvmin\u001b[0m\u001b[0;34m=\u001b[0m\u001b[0;36m0\u001b[0m\u001b[0;34m,\u001b[0m \u001b[0mvmax\u001b[0m\u001b[0;34m=\u001b[0m\u001b[0;36m1\u001b[0m\u001b[0;34m)\u001b[0m\u001b[0;34m\u001b[0m\u001b[0;34m\u001b[0m\u001b[0m\n\u001b[0m\u001b[1;32m      8\u001b[0m \u001b[0;31m# use the created array to output your multiple images. In this case I have stacked 4 images vertically\u001b[0m\u001b[0;34m\u001b[0m\u001b[0;34m\u001b[0m\u001b[0;34m\u001b[0m\u001b[0m\n",
      "\u001b[0;31mAttributeError\u001b[0m: 'numpy.ndarray' object has no attribute 'imshow'"
     ]
    },
    {
     "data": {
      "text/plain": [
       "<Figure size 432x288 with 0 Axes>"
      ]
     },
     "metadata": {
      "tags": []
     },
     "output_type": "display_data"
    },
    {
     "data": {
      "image/png": "[encoded data removed]",
      "text/plain": [
       "<Figure size 432x288 with 8 Axes>"
      ]
     },
     "metadata": {
      "needs_background": "light",
      "tags": []
     },
     "output_type": "display_data"
    }
   ],
   "source": [
    "plt.figure()\n",
    "\n",
    "#subplot(r,c) provide the no. of rows and columns\n",
    "f, axarr = plt.subplots(2,4) \n",
    "\n",
    "for m in range(8):\n",
    "  axarr[m].imshow(image[m,:,:], cmap='Reds', vmin=0, vmax=1)\n",
    "# use the created array to output your multiple images. In this case I have stacked 4 images vertically\n",
    "\n",
    "axarr[0].imshow(v_slice[0])\n",
    "axarr[1].imshow(v_slice[1])\n",
    "axarr[2].imshow(v_slice[2])\n",
    "axarr[3].imshow(v_slice[3])"
   ]
  }
 ],
 "metadata": {
  "accelerator": "GPU",
  "colab": {
   "name": "GenerateRandGeo.ipynb",
   "provenance": []
  },
  "kernelspec": {
   "display_name": "Python 3",
   "language": "python",
   "name": "python3"
  },
  "language_info": {
   "codemirror_mode": {
    "name": "ipython",
    "version": 3
   },
   "file_extension": ".py",
   "mimetype": "text/x-python",
   "name": "python",
   "nbconvert_exporter": "python",
   "pygments_lexer": "ipython3",
   "version": "3.6.5"
  }
 },
 "nbformat": 4,
 "nbformat_minor": 2
}
